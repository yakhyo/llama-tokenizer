{
 "cells": [
  {
   "cell_type": "code",
   "execution_count": 1,
   "metadata": {},
   "outputs": [],
   "source": [
    "from transformers import AutoTokenizer, AutoModelForCausalLM\n",
    "\n",
    "tokenizer = AutoTokenizer.from_pretrained(\"new-llama-tokenizer\")\n",
    "llama = AutoTokenizer.from_pretrained(\"meta-llama/Llama-3.1-8B-Instruct\")\n",
    "\n"
   ]
  },
  {
   "cell_type": "code",
   "execution_count": 2,
   "metadata": {},
   "outputs": [
    {
     "name": "stdout",
     "output_type": "stream",
     "text": [
      "['Barcha', 'ga', 'Ġsa', 'lom', ',', 'Ġmening', 'Ġismi', 'm', 'ĠYa', 'x', 'yo']\n"
     ]
    }
   ],
   "source": [
    "text = \"Barchaga salom, mening ismim Yaxyo\"\n",
    "tokens = tokenizer.tokenize(text)\n",
    "print(tokens)"
   ]
  },
  {
   "cell_type": "code",
   "execution_count": 3,
   "metadata": {},
   "outputs": [
    {
     "name": "stdout",
     "output_type": "stream",
     "text": [
      "my tokenizer: ['Barcha', 'ga', 'Ġsa', 'lom', ',', 'Ġmening', 'Ġismi', 'm', 'ĠYa', 'x', 'yo'] \n",
      "len: 11\n",
      "llama tokenizer: ['B', 'arch', 'aga', 'Ġsal', 'om', ',', 'Ġmening', 'Ġis', 'm', 'im', 'ĠY', 'axy', 'o'] \n",
      "len: 13\n"
     ]
    }
   ],
   "source": [
    "tokens = tokenizer.tokenize(text)\n",
    "print(\"my tokenizer:\", tokens, \"\\nlen:\", len(tokens))\n",
    "\n",
    "tokens = llama.tokenize(text)\n",
    "print(\"llama tokenizer:\",tokens, \"\\nlen:\", len(tokens))\n"
   ]
  },
  {
   "cell_type": "code",
   "execution_count": null,
   "metadata": {},
   "outputs": [],
   "source": []
  }
 ],
 "metadata": {
  "kernelspec": {
   "display_name": "torch",
   "language": "python",
   "name": "python3"
  },
  "language_info": {
   "codemirror_mode": {
    "name": "ipython",
    "version": 3
   },
   "file_extension": ".py",
   "mimetype": "text/x-python",
   "name": "python",
   "nbconvert_exporter": "python",
   "pygments_lexer": "ipython3",
   "version": "3.10.14"
  }
 },
 "nbformat": 4,
 "nbformat_minor": 2
}
